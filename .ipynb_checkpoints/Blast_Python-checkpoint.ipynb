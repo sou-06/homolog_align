{
 "cells": [
  {
   "cell_type": "markdown",
   "id": "05d6026d-bfa6-4ce3-a9b9-54b914d8f114",
   "metadata": {},
   "source": [
    "## パッケージのインストール\n",
    "\n",
    "一度だけ実行すれば良い"
   ]
  },
  {
   "cell_type": "code",
   "execution_count": 1,
   "id": "600533c8-5040-438c-b39d-d06950f3368d",
   "metadata": {},
   "outputs": [],
   "source": [
    "import sys"
   ]
  },
  {
   "cell_type": "markdown",
   "id": "181e1f0d-34d5-4d2b-a79d-f61d874a42d2",
   "metadata": {},
   "source": [
    "!{sys.executable}はJupyterを動かしているPythonのこと、\n",
    "\n",
    "環境中に複数のPythonの実行ファイルがあり、単純にpip installをしても、別のPython用にダウンロードされてしまうことがある。\n",
    "\n",
    "!はBashのスクリプトをPython中で実行する際につける。"
   ]
  },
  {
   "cell_type": "code",
   "execution_count": 2,
   "id": "c2f526c9-9094-44e2-8ff6-ec126d22504c",
   "metadata": {
    "collapsed": true,
    "jupyter": {
     "outputs_hidden": true
    },
    "scrolled": true
   },
   "outputs": [
    {
     "name": "stdout",
     "output_type": "stream",
     "text": [
      "Requirement already satisfied: pandas in /Users/katagiri/Library/jupyterlab-desktop/jlab_server/lib/python3.12/site-packages (2.2.2)\n",
      "Requirement already satisfied: numpy>=1.26.0 in /Users/katagiri/Library/jupyterlab-desktop/jlab_server/lib/python3.12/site-packages (from pandas) (2.1.0)\n",
      "Requirement already satisfied: python-dateutil>=2.8.2 in /Users/katagiri/Library/jupyterlab-desktop/jlab_server/lib/python3.12/site-packages (from pandas) (2.9.0)\n",
      "Requirement already satisfied: pytz>=2020.1 in /Users/katagiri/Library/jupyterlab-desktop/jlab_server/lib/python3.12/site-packages (from pandas) (2024.1)\n",
      "Requirement already satisfied: tzdata>=2022.7 in /Users/katagiri/Library/jupyterlab-desktop/jlab_server/lib/python3.12/site-packages (from pandas) (2024.1)\n",
      "Requirement already satisfied: six>=1.5 in /Users/katagiri/Library/jupyterlab-desktop/jlab_server/lib/python3.12/site-packages (from python-dateutil>=2.8.2->pandas) (1.16.0)\n"
     ]
    }
   ],
   "source": [
    "!{sys.executable} -m pip install pandas"
   ]
  },
  {
   "cell_type": "code",
   "execution_count": 3,
   "id": "de95354b-0b60-4517-9da1-dc1ead2f7473",
   "metadata": {
    "collapsed": true,
    "jupyter": {
     "outputs_hidden": true
    },
    "scrolled": true
   },
   "outputs": [
    {
     "name": "stdout",
     "output_type": "stream",
     "text": [
      "Requirement already satisfied: biopython in /Users/katagiri/Library/jupyterlab-desktop/jlab_server/lib/python3.12/site-packages (1.85)\n",
      "Requirement already satisfied: numpy in /Users/katagiri/Library/jupyterlab-desktop/jlab_server/lib/python3.12/site-packages (from biopython) (2.1.0)\n"
     ]
    }
   ],
   "source": [
    "!{sys.executable} -m pip install biopython"
   ]
  },
  {
   "cell_type": "code",
   "execution_count": 4,
   "id": "bf5c6b7f-fe66-4e96-8490-20a94fab88c9",
   "metadata": {
    "collapsed": true,
    "jupyter": {
     "outputs_hidden": true
    },
    "scrolled": true
   },
   "outputs": [
    {
     "name": "stdout",
     "output_type": "stream",
     "text": [
      "Requirement already satisfied: pymsaviz in /Users/katagiri/Library/jupyterlab-desktop/jlab_server/lib/python3.12/site-packages (0.5.0)\n",
      "Requirement already satisfied: biopython>=1.79 in /Users/katagiri/Library/jupyterlab-desktop/jlab_server/lib/python3.12/site-packages (from pymsaviz) (1.85)\n",
      "Requirement already satisfied: matplotlib>=3.5.2 in /Users/katagiri/Library/jupyterlab-desktop/jlab_server/lib/python3.12/site-packages (from pymsaviz) (3.9.2)\n",
      "Requirement already satisfied: numpy in /Users/katagiri/Library/jupyterlab-desktop/jlab_server/lib/python3.12/site-packages (from biopython>=1.79->pymsaviz) (2.1.0)\n",
      "Requirement already satisfied: contourpy>=1.0.1 in /Users/katagiri/Library/jupyterlab-desktop/jlab_server/lib/python3.12/site-packages (from matplotlib>=3.5.2->pymsaviz) (1.2.1)\n",
      "Requirement already satisfied: cycler>=0.10 in /Users/katagiri/Library/jupyterlab-desktop/jlab_server/lib/python3.12/site-packages (from matplotlib>=3.5.2->pymsaviz) (0.12.1)\n",
      "Requirement already satisfied: fonttools>=4.22.0 in /Users/katagiri/Library/jupyterlab-desktop/jlab_server/lib/python3.12/site-packages (from matplotlib>=3.5.2->pymsaviz) (4.53.1)\n",
      "Requirement already satisfied: kiwisolver>=1.3.1 in /Users/katagiri/Library/jupyterlab-desktop/jlab_server/lib/python3.12/site-packages (from matplotlib>=3.5.2->pymsaviz) (1.4.5)\n",
      "Requirement already satisfied: packaging>=20.0 in /Users/katagiri/Library/jupyterlab-desktop/jlab_server/lib/python3.12/site-packages (from matplotlib>=3.5.2->pymsaviz) (24.1)\n",
      "Requirement already satisfied: pillow>=8 in /Users/katagiri/Library/jupyterlab-desktop/jlab_server/lib/python3.12/site-packages (from matplotlib>=3.5.2->pymsaviz) (10.4.0)\n",
      "Requirement already satisfied: pyparsing>=2.3.1 in /Users/katagiri/Library/jupyterlab-desktop/jlab_server/lib/python3.12/site-packages (from matplotlib>=3.5.2->pymsaviz) (3.1.4)\n",
      "Requirement already satisfied: python-dateutil>=2.7 in /Users/katagiri/Library/jupyterlab-desktop/jlab_server/lib/python3.12/site-packages (from matplotlib>=3.5.2->pymsaviz) (2.9.0)\n",
      "Requirement already satisfied: six>=1.5 in /Users/katagiri/Library/jupyterlab-desktop/jlab_server/lib/python3.12/site-packages (from python-dateutil>=2.7->matplotlib>=3.5.2->pymsaviz) (1.16.0)\n",
      "\u001b[31mERROR: Could not find a version that satisfies the requirement subprocess (from versions: none)\u001b[0m\u001b[31m\n",
      "\u001b[0m\u001b[31mERROR: No matching distribution found for subprocess\u001b[0m\u001b[31m\n",
      "\u001b[0mRequirement already satisfied: matplotlib in /Users/katagiri/Library/jupyterlab-desktop/jlab_server/lib/python3.12/site-packages (3.9.2)\n",
      "Requirement already satisfied: contourpy>=1.0.1 in /Users/katagiri/Library/jupyterlab-desktop/jlab_server/lib/python3.12/site-packages (from matplotlib) (1.2.1)\n",
      "Requirement already satisfied: cycler>=0.10 in /Users/katagiri/Library/jupyterlab-desktop/jlab_server/lib/python3.12/site-packages (from matplotlib) (0.12.1)\n",
      "Requirement already satisfied: fonttools>=4.22.0 in /Users/katagiri/Library/jupyterlab-desktop/jlab_server/lib/python3.12/site-packages (from matplotlib) (4.53.1)\n",
      "Requirement already satisfied: kiwisolver>=1.3.1 in /Users/katagiri/Library/jupyterlab-desktop/jlab_server/lib/python3.12/site-packages (from matplotlib) (1.4.5)\n",
      "Requirement already satisfied: numpy>=1.23 in /Users/katagiri/Library/jupyterlab-desktop/jlab_server/lib/python3.12/site-packages (from matplotlib) (2.1.0)\n",
      "Requirement already satisfied: packaging>=20.0 in /Users/katagiri/Library/jupyterlab-desktop/jlab_server/lib/python3.12/site-packages (from matplotlib) (24.1)\n",
      "Requirement already satisfied: pillow>=8 in /Users/katagiri/Library/jupyterlab-desktop/jlab_server/lib/python3.12/site-packages (from matplotlib) (10.4.0)\n",
      "Requirement already satisfied: pyparsing>=2.3.1 in /Users/katagiri/Library/jupyterlab-desktop/jlab_server/lib/python3.12/site-packages (from matplotlib) (3.1.4)\n",
      "Requirement already satisfied: python-dateutil>=2.7 in /Users/katagiri/Library/jupyterlab-desktop/jlab_server/lib/python3.12/site-packages (from matplotlib) (2.9.0)\n",
      "Requirement already satisfied: six>=1.5 in /Users/katagiri/Library/jupyterlab-desktop/jlab_server/lib/python3.12/site-packages (from python-dateutil>=2.7->matplotlib) (1.16.0)\n"
     ]
    }
   ],
   "source": [
    "!{sys.executable} -m pip install pymsaviz\n",
    "!{sys.executable} -m pip install subprocess\n",
    "!{sys.executable} -m pip install matplotlib\n"
   ]
  },
  {
   "cell_type": "markdown",
   "id": "3710f244-5f51-4989-939f-1229740e2c29",
   "metadata": {},
   "source": [
    "## Blastのデータベース作成\n",
    "\n",
    "Blast+をあらかじめインストールしてください。Ubuntuなら\n",
    "\n",
    "sudo apt install -y ncbi-blast+\n",
    "\n",
    "WindowsやMacは解説のスライドがWebにいくつか上がっています。\n",
    "\n",
    "Blastのデータベースを追加したい場合は、Fastaファイルを用意して、以下の例のようにデータベースを作成してください。\n",
    "\n",
    "データベースがタンパク質なら　-dbtype prot　核酸配列なら　-dbtype nucl\n",
    "\n",
    "https://bi.biopapyrus.jp/seq/blast/makeblastdb.html"
   ]
  },
  {
   "cell_type": "code",
   "execution_count": 5,
   "id": "48289547-f76f-4039-8ce2-61459e0e39f0",
   "metadata": {},
   "outputs": [
    {
     "name": "stdout",
     "output_type": "stream",
     "text": [
      "\n",
      "\n",
      "Building a new DB, current time: 10/01/2025 10:28:27\n",
      "New DB name:   /Users/katagiri/Library/CloudStorage/Box-Box/植物化学遺伝学研究室/片桐/FastaTools/Benthamiana/Nben_pep\n",
      "New DB title:  Benthamiana/Nbe_v1.1_pep.fa\n",
      "Sequence type: Protein\n",
      "Deleted existing Protein BLAST database named /Users/katagiri/Library/CloudStorage/Box-Box/植物化学遺伝学研究室/片桐/FastaTools/Benthamiana/Nben_pep\n",
      "Keep MBits: T\n",
      "Maximum file size: 3000000000B\n",
      "Adding sequences from FASTA; added 84570 sequences in 1.75576 seconds.\n",
      "\n",
      "\n"
     ]
    }
   ],
   "source": [
    "!makeblastdb -in Benthamiana/Nbe_v1.1_pep.fa -out Benthamiana/Nben_pep -dbtype prot -parse_seqids"
   ]
  },
  {
   "cell_type": "code",
   "execution_count": 6,
   "id": "b80cb0ab-f799-4362-9924-d2c6d4f4ed3d",
   "metadata": {
    "scrolled": true
   },
   "outputs": [
    {
     "name": "stdout",
     "output_type": "stream",
     "text": [
      "/Users/katagiri/Library/jupyterlab-desktop/jlab_server/lib/python3.12/site-packages/conda/base/context.py:201: FutureWarning: Adding 'defaults' to channel list implicitly is deprecated and will be removed in 25.3. \n",
      "\n",
      "To remove this warning, please choose a default channel explicitly with conda's regular configuration system, e.g. by adding 'defaults' to the list of channels:\n",
      "\n",
      "  conda config --add channels defaults\n",
      "\n",
      "For more information see https://docs.conda.io/projects/conda/en/stable/user-guide/configuration/use-condarc.html\n",
      "\n",
      "  deprecated.topic(\n",
      "/Users/katagiri/Library/jupyterlab-desktop/jlab_server/lib/python3.12/site-packages/conda/base/context.py:201: FutureWarning: Adding 'defaults' to channel list implicitly is deprecated and will be removed in 25.3. \n",
      "\n",
      "To remove this warning, please choose a default channel explicitly with conda's regular configuration system, e.g. by adding 'defaults' to the list of channels:\n",
      "\n",
      "  conda config --add channels defaults\n",
      "\n",
      "For more information see https://docs.conda.io/projects/conda/en/stable/user-guide/configuration/use-condarc.html\n",
      "\n",
      "  deprecated.topic(\n",
      "Channels:\n",
      " - bioconda\n",
      " - defaults\n",
      " - conda-forge\n",
      "Platform: osx-64\n",
      "Collecting package metadata (repodata.json): done\n",
      "Solving environment: done\n",
      "\n",
      "\n",
      "==> WARNING: A newer version of conda exists. <==\n",
      "    current version: 24.11.3\n",
      "    latest version: 25.7.0\n",
      "\n",
      "Please update conda by running\n",
      "\n",
      "    $ conda update -n base -c defaults conda\n",
      "\n",
      "\n",
      "\n",
      "# All requested packages already installed.\n",
      "\n"
     ]
    }
   ],
   "source": [
    "!conda install -c bioconda muscle"
   ]
  },
  {
   "cell_type": "code",
   "execution_count": 8,
   "id": "81772f17-2a12-4c12-a14d-3176700955e1",
   "metadata": {},
   "outputs": [],
   "source": [
    "import subprocess\n",
    "import pandas as pd\n",
    "from pathlib import Path\n",
    "from Bio import SeqIO\n",
    "import os\n",
    "from pymsaviz import MsaViz\n",
    "import matplotlib.pyplot as plt\n",
    "from Bio.Align.Applications import MuscleCommandline\n"
   ]
  },
  {
   "cell_type": "markdown",
   "id": "f66857d9-3e67-4592-8888-00249eb60ae8",
   "metadata": {},
   "source": [
    "## Fastaのインポート\n",
    "\n",
    "Fastaファイルを追加した場合はここにも追記してください。\n",
    "\n",
    "画面への出力で、IDの記述例を確認してください。"
   ]
  },
  {
   "cell_type": "code",
   "execution_count": 9,
   "id": "bd8a4646-f777-4aaa-bd0f-9a6ede64323c",
   "metadata": {},
   "outputs": [
    {
     "name": "stdout",
     "output_type": "stream",
     "text": [
      "AT2G46900.1\n",
      "AT5G16730.1\n",
      "\n",
      "Total 48360 genes\n",
      "\n",
      "Nben03g25900\n",
      "Nben08g26020\n",
      "Nben13g11730\n",
      "Nben17g17470\n",
      "\n",
      "Total 132930 genes\n",
      "\n",
      "Glyma.02G176500.1\n",
      "Glyma.13G353400.6\n",
      "Glyma.16G160000.4\n",
      "Glyma.12G161300.4\n",
      "\n",
      "Total 213304 genes\n",
      "\n",
      "Mp2g25950.2\n",
      "\n",
      "Total 235978 genes\n",
      "\n",
      "LOC_Os08g26200.1\n",
      "LOC_Os03g58020.1\n",
      "LOC_Os05g05700.1\n",
      "\n",
      "Total 285039 genes\n",
      "\n",
      "TraesCS6B02G309700.1\n",
      "TraesCS3D02G331300.1\n",
      "TraesCS2B02G420100.1\n",
      "TraesCS2B02G261700.1\n",
      "TraesCS4B02G186000.1\n",
      "TraesCS2B02G357100.2\n",
      "\n",
      "Total 418385 genes\n",
      "\n"
     ]
    }
   ],
   "source": [
    "FASTAs = [\"Arabidopsis/Araport11_genes.201606.pep.fasta\",\n",
    "          \"Benthamiana/Nbe_v1.1_pep.fa\",\n",
    "          \"GMax/Gmax_880_Wm82.a6.v1.protein.fa\",\n",
    "          \"Marchantia/MpTak_v6.1r2.protein.fasta\",\n",
    "          \"Oryza/Osativa_204_v7.0.protein.fasta\",\n",
    "          \"Triticum/Triticum_aestivum.IWGSC.pep.all.fa\"\n",
    "          ]\n",
    "sequences = []\n",
    "ids = []\n",
    "descriptions = []\n",
    "cnt = 0\n",
    "for filename in FASTAs:\n",
    "    for record in SeqIO.parse(filename, \"fasta\"):\n",
    "        id_part = record.id\n",
    "        desc_part = record.description\n",
    "        seq = record.seq.replace(\"*\", \"\")\n",
    "        sequences.append(seq)\n",
    "        ids.append(id_part)\n",
    "        descriptions.append(desc_part)\n",
    "        cnt += 1\n",
    "        if cnt % 20000 == 0: print(id_part)\n",
    "    print(\"\\nTotal\", len(sequences),\"genes\\n\")"
   ]
  },
  {
   "cell_type": "markdown",
   "id": "ec1651da-9102-4dba-a319-51449ccd2c93",
   "metadata": {},
   "source": [
    "## 相同性検索　Blast search"
   ]
  },
  {
   "cell_type": "markdown",
   "id": "e87c3c26-078d-4daf-9dc6-66d7d8441b15",
   "metadata": {},
   "source": [
    "query_List_fileで指定しているテキストファイル(\"GeneList.txt\")の中身に遺伝子名番号を入れてくださいAT1G26470.1など\n",
    "\n",
    "1行に1遺伝子づつです。\n",
    "\n",
    "**resdirは出力先のフォルダです。中身が空になっていることを確認してください。**"
   ]
  },
  {
   "cell_type": "code",
   "execution_count": 10,
   "id": "7d5f05fe-6701-4e1b-bdc2-aa8d7e15e570",
   "metadata": {},
   "outputs": [],
   "source": [
    "query_List_file = \"GeneList.txt\"\n",
    "resdir = \"results\"\n",
    "os.makedirs(resdir, exist_ok=True)"
   ]
  },
  {
   "cell_type": "markdown",
   "id": "2f74e199-1d4a-4763-8268-0772797f3c4e",
   "metadata": {},
   "source": [
    "\n",
    "\n",
    "使いたい種のみにdb_Listを書き換えてください。\n",
    "\n",
    "\"Arabidopsis/At_pep\", 　　　シロイヌナズナ\n",
    "\n",
    "\"Oryza/Osativa_pep\", 　　　イネ\n",
    "\n",
    "\"Benthamiana/Nben_pep\", 　ベンサミアナ\n",
    "\n",
    "\"GMax/Glymax_pep.fasta\",　ダイズ\n",
    "\n",
    "\"Marchantia/Mp_pep\",　　　ゼニゴケ\n",
    "\n",
    "\"Triticum/Ta_pep.pdb\"　　　コムギ"
   ]
  },
  {
   "cell_type": "code",
   "execution_count": 11,
   "id": "0186106f-9e98-47d9-878b-ab7148a8d7c5",
   "metadata": {},
   "outputs": [],
   "source": [
    "db_List = [\"Arabidopsis/At_pep\",\n",
    "           \"Oryza/Osativa_pep\", \n",
    "           \"Benthamiana/Nben_pep\", \n",
    "           \"GMax/Glymax_pep\",\n",
    "           \"Marchantia/Mp_pep\",\n",
    "           \"Triticum/Ta_pep\"\n",
    "           ]\n",
    "\n",
    "query_list = []\n",
    "query_file = open(\"GeneList.txt\", \"r\")\n",
    "\n",
    "for query in query_file.readlines():\n",
    "    if query.strip() == \"\" :\n",
    "        continue\n",
    "\n",
    "    query_list.append(query.strip())\n"
   ]
  },
  {
   "cell_type": "code",
   "execution_count": 12,
   "id": "716ec0e5-c265-4760-96f6-aafbf8f59e4a",
   "metadata": {},
   "outputs": [],
   "source": [
    "db_List = [\"Arabidopsis/At_pep\",\n",
    "           \"Oryza/Osativa_pep\", \n",
    "           \"Benthamiana/Nben_pep\", \n",
    "           \"GMax/Glymax_pep\",\n",
    "           \"Marchantia/Mp_pep\",\n",
    "           \"Triticum/Ta_pep\"\n",
    "           ]\n",
    "\n",
    "query_list = []\n",
    "query_file = open(\"GeneList.txt\", \"r\")\n",
    "\n",
    "for query in query_file.readlines():\n",
    "    if query.strip() == \"\" :\n",
    "        continue\n",
    "\n",
    "    query_list.append(query.strip())\n"
   ]
  },
  {
   "cell_type": "code",
   "execution_count": 13,
   "id": "c68a9d82-36c1-42cc-a9db-fd2aa94b3aa5",
   "metadata": {},
   "outputs": [],
   "source": [
    "query_fasta_name = \"query.fasta\"\n",
    "query_fasta = open(\"query.fasta\", \"w\")\n",
    "\n",
    "for query in query_list:\n",
    "    fasta_index = ids.index(query)\n",
    "    seq = sequences[fasta_index]\n",
    "    query_fasta.write(\">\" + query + \"\\n\")\n",
    "    query_fasta.write(str(seq) + \"\\n\")\n",
    "query_fasta.close()"
   ]
  },
  {
   "cell_type": "code",
   "execution_count": 14,
   "id": "43716af2-54b4-41b2-bd6b-a28234b70132",
   "metadata": {},
   "outputs": [],
   "source": [
    "db_name =  \" \".join(db_List) \n",
    "out_file = \"blast_results.tsv\"\n",
    "blast_cmd = [\n",
    "    \"blastp\",\n",
    "    \"-query\", query_fasta_name,\n",
    "    \"-db\", db_name,\n",
    "    \"-outfmt\",\"6 qseqid sseqid pident length evalue bitscore\",\n",
    "    \"-max_target_seqs\", \"50\", #ここの数字が、1クエリあたりヒット数の上限\n",
    "    \"-num_threads\", \"4\",\n",
    "    \"-out\", out_file,\n",
    "    \"-evalue\", \"1e-5\", #e-valueで切る。特定のグループの少し外側まで取って、outgroupeを作ることで、系統樹の根を推定できる。\n",
    "    \"-max_hsps\", \"1\"\n",
    "]"
   ]
  },
  {
   "cell_type": "code",
   "execution_count": 20,
   "id": "8d331a28-a2c5-4d9c-9d73-b087e790bacd",
   "metadata": {},
   "outputs": [
    {
     "name": "stdout",
     "output_type": "stream",
     "text": [
      "Running BLAST...\n",
      "BLAST finished.\n"
     ]
    }
   ],
   "source": [
    "print(\"Running BLAST...\")\n",
    "subprocess.run(blast_cmd, check=True)\n",
    "print(\"BLAST finished.\")"
   ]
  },
  {
   "cell_type": "markdown",
   "id": "ed529d9f-36a5-48ab-9999-f0d4cdf4ff3f",
   "metadata": {},
   "source": [
    "\"blast_results.tsv\"が出力ファイルです。エクセルで開けます。エクセルを立ち上げて、そこにドラックアンドドロップしてください。\n",
    "\n",
    "\"Query\", \"Subject\", \"Identity(%)\", \"Length\", \"Evalue\", \"Bitscore\"の順番です\n"
   ]
  },
  {
   "cell_type": "code",
   "execution_count": 21,
   "id": "1039c945-acfb-4506-913f-ca080eb0acad",
   "metadata": {},
   "outputs": [],
   "source": [
    "#columns = [\"Query\", \"Subject\", \"Identity(%)\", \"Length\", \"Evalue\", \"Bitscore\"]\n",
    "infile = open(\"blast_results.tsv\",\"r\")\n",
    "dat_table = []\n",
    "querys = []\n",
    "geneids = []\n",
    "\n",
    "for line in infile.readlines():\n",
    "    dat = line.split(\"\\t\")\n",
    "    query = dat[0]\n",
    "    subject = dat[1]\n",
    "    \n",
    "    geneID_split = subject.split(\".\")\n",
    "    if len(geneID_split) >= 2 and len(geneID_split[-1]) <= 2: \n",
    "        geneid = \".\".join(subject.split(\".\")[0:-1]) #スプライスバリアントの除去\n",
    "    else:\n",
    "        geneid = subject\n",
    "        \n",
    "    if len(querys) == 0 or querys[-1] != query:\n",
    "        geneids = [geneid]\n",
    "        querys.append(query)\n",
    "        outfile = open(resdir + \"/\" + query + \".fasta\", \"w\")       \n",
    "        fasta_index = ids.index(subject)\n",
    "        seq = sequences[fasta_index]\n",
    "        outfile.write(\">\" + subject + \"\\n\")\n",
    "        outfile.write(str(seq) + \"\\n\")\n",
    "    else:\n",
    "        if geneid in geneids: continue #スプライスバリアントを複数残す場合はこの行コメントアウト\n",
    "        geneids.append(geneid)\n",
    "        fasta_index = ids.index(subject)\n",
    "        seq = sequences[fasta_index]\n",
    "        outfile.write(\">\" + subject + \"\\n\")\n",
    "        outfile.write(str(seq) + \"\\n\")\n",
    "outfile.close()"
   ]
  },
  {
   "cell_type": "markdown",
   "id": "7b4ecdcf-01f7-4be1-baee-cc4046a77ac6",
   "metadata": {},
   "source": [
    "## Alignment\n",
    "\n",
    "出力されたファイルは序盤に指定したresdirにfastaが保存されている。\n",
    "\n",
    "Aligmentの前にファスタファイルを確認して、必要ないものは削除しておく。\n"
   ]
  },
  {
   "cell_type": "code",
   "execution_count": 9,
   "id": "e6e48b10-5684-4dc4-83eb-1154e09af398",
   "metadata": {},
   "outputs": [],
   "source": [
    "# ここから始めたい場合は、アライメントをかけたいFastaを入れたファイルをフォルダに入れて、resdirとして指定。#を取れば、コメントアウトではなくなる。\n",
    "# resdir = \"results\"　"
   ]
  },
  {
   "cell_type": "code",
   "execution_count": 23,
   "id": "883aedf4-6dc1-43ae-b25b-152a690be7d4",
   "metadata": {
    "scrolled": true
   },
   "outputs": [
    {
     "name": "stdout",
     "output_type": "stream",
     "text": [
      "['Tree', 'Aligned_Aligned_AT1G65480.1.fasta', 'Aligned_AT4G33950.1.tsv', '.DS_Store', 'AT4G33950.1.fasta', 'Aligned_AT1G26470.1.txt', 'Aligned_AT1G65480.1.fasta.png', 'Aligned_AT4G33950.1.fasta', 'AT1G65480.1.fasta', 'Aligned_AT1G26470.1.tsv', 'Aligned_AT1G65480.1.fasta', 'Aligned_AT1G26470.1.fasta.png', 'Aligned_AT4G33950.1.txt', 'Aligned_Aligned_AT4G33950.1.fasta', 'Aligned_AT1G65480.1.txt', 'Aligned_Aligned_AT1G26470.1.fasta', '.ipynb_checkpoints', 'Aligned_AT4G33950.1.fasta.png', 'AT1G26470.1.fasta', 'Aligned_AT1G65480.1.tsv', 'alignment_.png', 'Aligned_AT1G26470.1.fasta']\n"
     ]
    },
    {
     "name": "stderr",
     "output_type": "stream",
     "text": [
      "\n",
      "muscle 5.3.osx64 []  8.6Gb RAM, 4 cores\n",
      "Built Jul 30 2025 21:35:18\n",
      "(C) Copyright 2004-2021 Robert C. Edgar.\n",
      "https://drive5.com\n",
      "\n",
      "[align results/AT4G33950.1.fasta]\n",
      "Input: 50 seqs, avg length 356, max 399, min 294\n",
      "\n",
      "00:01 2.2Mb   100.0% Derep 43 uniques, 7 dupes\n",
      "00:01 2.3Mb  CPU has 4 cores, running 4 threads\n",
      "00:06 40Mb    100.0% Calc posteriors\n",
      "00:06 40Mb    100.0% UPGMA5         \n",
      "00:07 41Mb    100.0% Consistency (1/2)\n",
      "00:07 42Mb    100.0% Consistency (2/2)\n",
      "00:07 24Mb    100.0% Refining         \n",
      "\n",
      "muscle 5.3.osx64 []  8.6Gb RAM, 4 cores\n",
      "Built Jul 30 2025 21:35:18\n",
      "(C) Copyright 2004-2021 Robert C. Edgar.\n",
      "https://drive5.com\n",
      "\n",
      "[align results/AT1G65480.1.fasta]\n",
      "Input: 50 seqs, avg length 180, max 276, min 173\n",
      "\n",
      "00:00 2.2Mb   100.0% Derep 47 uniques, 3 dupes\n",
      "00:00 2.3Mb  CPU has 4 cores, running 4 threads\n",
      "00:02 19Mb    100.0% Calc posteriors\n",
      "00:02 19Mb    100.0% UPGMA5         \n",
      "00:02 24Mb    100.0% Consistency (1/2)\n",
      "00:02 24Mb    100.0% Consistency (2/2)\n",
      "00:02 20Mb    100.0% Refining         \n",
      "\n",
      "muscle 5.3.osx64 []  8.6Gb RAM, 4 cores\n",
      "Built Jul 30 2025 21:35:18\n",
      "(C) Copyright 2004-2021 Robert C. Edgar.\n",
      "https://drive5.com\n",
      "\n",
      "[align results/AT1G26470.1.fasta]\n",
      "Input: 12 seqs, avg length 135, max 228, min 122\n",
      "\n",
      "00:03 2.1Mb   100.0% Derep 10 uniques, 2 dupes\n",
      "00:03 2.2Mb  CPU has 4 cores, running 4 threads\n",
      "00:03 10Mb    100.0% Calc posteriors\n",
      "00:03 8.6Mb   100.0% UPGMA5         \n",
      "00:03 7.8Mb   100.0% Consistency (1/2)\n",
      "00:03 7.8Mb   100.0% Consistency (2/2)\n",
      "00:03 8.1Mb   100.0% Refining         \n"
     ]
    }
   ],
   "source": [
    "\n",
    "infiles = os.listdir(resdir)\n",
    "aligned_files = []\n",
    "print(infiles)\n",
    "\n",
    "#muscle_exe = \"./muscle-linux-x86.v5.3\"   #Linux用\n",
    "muscle_exe = \"muscle\"    #mac用 \n",
    "#muscle_exe = \"./muscle-win64.v5.3.exe\" #windows用\n",
    "\n",
    "for infile in infiles:\n",
    "    if infile.endswith(\".fasta\") == False: continue\n",
    "    if infile.startswith(\"Aligned_\") == True : continue\n",
    "    in_file = resdir + \"/\" + infile\n",
    "    out_file = resdir + \"/Aligned_\" + infile\n",
    "    aligned_files.append(resdir + \"/Aligned_\" + infile)\n",
    "    subprocess.run([muscle_exe , \"-align\", in_file, \"-output\", out_file], check=True)"
   ]
  },
  {
   "cell_type": "markdown",
   "id": "d3629d38-98b5-48a2-9f9b-d411b639ed62",
   "metadata": {},
   "source": [
    "Alignmentの画像化\n",
    "\n",
    " 遺伝子数が50個超えてくると時間かかりすぎるので、パスしてください\n"
   ]
  },
  {
   "cell_type": "code",
   "execution_count": 26,
   "id": "b8e35ff5-3667-4b63-b9aa-1479eed1b2ed",
   "metadata": {},
   "outputs": [],
   "source": [
    "\n",
    "for filename in aligned_files:\n",
    "    mv = MsaViz(filename, wrap_length=None, show_consensus=True, show_count=True, color_scheme=\"Identity\")\n",
    "    mv.savefig(filename + \".png\", dpi=200)"
   ]
  },
  {
   "cell_type": "markdown",
   "id": "4acd34bb-5484-40b0-9687-b0d51780209f",
   "metadata": {},
   "source": [
    "## 系統樹の作成"
   ]
  },
  {
   "cell_type": "code",
   "execution_count": 16,
   "id": "9b7400d3-1c2f-40f6-98dc-30d6b938e6e9",
   "metadata": {},
   "outputs": [],
   "source": [
    "tsvs = []\n",
    "for filename in aligned_files:\n",
    "    out_file = open(filename.replace(\".fasta\", \".tsv\"), \"w\")\n",
    "    tsvs.append(filename.replace(\".fasta\", \".tsv\"))\n",
    "    ids2 = []\n",
    "    sequences2 = []\n",
    "    for record in SeqIO.parse(filename, \"fasta\"):\n",
    "        out_file.write(record.id)\n",
    "        out_file.write(\"\\t\")\n",
    "        out_file.write(\"\\t\".join(list(record.seq)) + \"\\n\")\n",
    "        "
   ]
  },
  {
   "cell_type": "markdown",
   "id": "093ca27e-8b1f-4a8b-85e3-f424b10ce7df",
   "metadata": {},
   "source": [
    "系統樹を作る際に、相同性の低い領域の影響が大きくなるのを防ぐ。\n",
    "\n",
    "ここでアライメントされた配列から、アライメントが取れていない領域(相同性の低い領域)を消す。tsvファイルをエクセル等で開いて、Deleteしていく\n",
    "\n",
    "より詳しい方法は、パワポを確認。領域を消すときは、以降のアライメントが崩れないように下から上まで全遺伝子に渡って消す。\n",
    "\n",
    "例えば、Raf like kinaseの系統樹は、キナーゼドメインのみを用いて作られている。\n",
    "\n",
    "\n",
    "続いて、tsvをFastaに戻す。スクリプト↓"
   ]
  },
  {
   "cell_type": "code",
   "execution_count": 17,
   "id": "1a898be1-bb9c-4257-ab83-9bb76ba87f9e",
   "metadata": {},
   "outputs": [],
   "source": [
    "os.makedirs(resdir + \"/Tree\", exist_ok=True)\n",
    "for tsv in tsvs:\n",
    "    in_file = open(tsv, \"r\")\n",
    "    out_file = open(tsv.replace( \".tsv\", \".fasta\").replace(resdir, resdir + \"/Tree\"), \"w\")\n",
    "    for line in in_file.readlines():\n",
    "        data = line.split(\"\\t\")\n",
    "        if len(data) < 4: continue\n",
    "        out_file.write(\">\" + data[0] + \"\\n\")\n",
    "        out_file.write( \"\".join(data[1:]) + \"\\n\")\n",
    "    out_file.close()\n",
    "    "
   ]
  },
  {
   "cell_type": "markdown",
   "id": "d9b81faf-48d2-4019-8809-3f5f964088ff",
   "metadata": {},
   "source": [
    "結果の出力先フォルダのなかにTreeというフォルダがあり、その中に、Fastaが入っている。\n",
    "\n",
    "そのファイルを使って、MEGA12に読み込ませる。"
   ]
  },
  {
   "cell_type": "code",
   "execution_count": null,
   "id": "4d8241de-ceb0-4b44-94d4-6f972b20a325",
   "metadata": {},
   "outputs": [],
   "source": []
  }
 ],
 "metadata": {
  "kernelspec": {
   "display_name": "Python 3 (ipykernel)",
   "language": "python",
   "name": "python3"
  },
  "language_info": {
   "codemirror_mode": {
    "name": "ipython",
    "version": 3
   },
   "file_extension": ".py",
   "mimetype": "text/x-python",
   "name": "python",
   "nbconvert_exporter": "python",
   "pygments_lexer": "ipython3",
   "version": "3.13.5"
  }
 },
 "nbformat": 4,
 "nbformat_minor": 5
}
