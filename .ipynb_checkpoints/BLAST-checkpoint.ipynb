{
 "cells": [
  {
   "cell_type": "markdown",
   "id": "7d540e96-5306-47f2-8b8f-6af283b7c841",
   "metadata": {},
   "source": [
    "### DDBJの説明\n",
    "\n",
    "|プログラム |クエリ |データベース |説明 |　　　　　　|\n",
    "|:----|:----|:----|:----|:----|\n",
    "|megablast |塩基配列 |塩基配列 |あなたの塩基配列を塩基配列データベースと比較します。長大な塩基配列で相同性検索を行いたい場合，blastn より高速に検索結果が得られます。 |\n",
    "|blastn |塩基配列 |塩基配列 |あなたの塩基配列を塩基配列データベースと比較します。 |\n",
    "|tblastn |アミノ酸配列 |塩基配列 |あなたのアミノ酸配列に対して，塩基配列データベースを表裏合わせて６通りの読み枠で翻訳しながら比較します。 |\n",
    "|tblastx |塩基配列 |塩基配列 |あなたの塩基配列を表裏合わせて６通りの読み枠で翻訳しながら，同様に翻訳された塩基配列データベースと比較します。|\n",
    "|blastp |アミノ酸配列 |アミノ酸配列 |あなたのアミノ酸配列をアミノ酸配列データベースと比較します。|\n",
    "|blastx |塩基配列 |アミノ酸配列 |あなたの塩基配列を表裏合わせて６通りの読み枠で翻訳しながら，アミノ酸配列データベースと比較します。|\n"
   ]
  },
  {
   "cell_type": "markdown",
   "id": "0374f4bb-f217-4983-bbf2-7f0d767e8ee2",
   "metadata": {},
   "source": [
    "## Arabidopsis"
   ]
  },
  {
   "cell_type": "code",
   "execution_count": 12,
   "id": "5cb123e3-293f-428d-83a8-d4c6518c0fe9",
   "metadata": {
    "scrolled": true
   },
   "outputs": [
    {
     "name": "stdout",
     "output_type": "stream",
     "text": [
      "\n",
      "\n",
      "Building a new DB, current time: 09/29/2025 23:25:25\n",
      "New DB name:   /home/katagiri/jupytor_uv/FastaTools/Arabidopsis/At_cds\n",
      "New DB title:  Arabidopsis/Araport11_cds_20220914.fasta\n",
      "Sequence type: Nucleotide\n",
      "Keep MBits: T\n",
      "Maximum file size: 3000000000B\n",
      "BLAST options error: File Arabidopsis/Araport11_cds_20220914.fasta does not exist\n"
     ]
    },
    {
     "ename": "",
     "evalue": "1",
     "output_type": "error",
     "traceback": []
    }
   ],
   "source": [
    "makeblastdb -in Arabidopsis/Araport11_cds_20220914.fasta -out Arabidopsis/At_cds -dbtype nucl -parse_seqids"
   ]
  },
  {
   "cell_type": "markdown",
   "id": "d90b33e1-58fc-46a0-9503-7ad442ba0d69",
   "metadata": {},
   "source": [
    "ErrorはÂがいけないので、これをaに置換\n",
    "\n",
    "óはoに\n",
    "\n",
    "サクラエディタでやって、名前を付けて保存> utf8の部分をsjisに"
   ]
  },
  {
   "cell_type": "code",
   "execution_count": 13,
   "id": "360177ac-05af-4d6f-bb2f-855384c09c93",
   "metadata": {},
   "outputs": [
    {
     "name": "stdout",
     "output_type": "stream",
     "text": [
      "\n",
      "\n",
      "Building a new DB, current time: 09/29/2025 23:25:38\n",
      "New DB name:   /home/katagiri/jupytor_uv/FastaTools/Arabidopsis/At_pep\n",
      "New DB title:  Arabidopsis/Araport11_genes.201606.pep.fasta\n",
      "Sequence type: Protein\n",
      "Deleted existing Protein BLAST database named /home/katagiri/jupytor_uv/FastaTools/Arabidopsis/At_pep\n",
      "Keep MBits: T\n",
      "Maximum file size: 3000000000B\n",
      "Adding sequences from FASTA; added 48360 sequences in 0.384787 seconds.\n",
      "\n",
      "\n"
     ]
    }
   ],
   "source": [
    "makeblastdb -in Arabidopsis/Araport11_genes.201606.pep.fasta -out Arabidopsis/At_pep -dbtype prot -parse_seqids"
   ]
  },
  {
   "cell_type": "markdown",
   "id": "c52c51d0-3817-43c5-8a98-4855ac66cc4c",
   "metadata": {},
   "source": [
    "## Oryza"
   ]
  },
  {
   "cell_type": "code",
   "execution_count": 14,
   "id": "dd0f6b49-9958-4afc-b285-7f22520d0894",
   "metadata": {},
   "outputs": [
    {
     "name": "stdout",
     "output_type": "stream",
     "text": [
      "\n",
      "\n",
      "Building a new DB, current time: 09/29/2025 23:25:39\n",
      "New DB name:   /home/katagiri/jupytor_uv/FastaTools/Oryza/Osativa_pep\n",
      "New DB title:  Oryza/Osativa_204_v7.0.protein.fasta\n",
      "Sequence type: Protein\n",
      "Deleted existing Protein BLAST database named /home/katagiri/jupytor_uv/FastaTools/Oryza/Osativa_pep\n",
      "Keep MBits: T\n",
      "Maximum file size: 3000000000B\n",
      "Adding sequences from FASTA; added 49061 sequences in 0.314307 seconds.\n",
      "\n",
      "\n"
     ]
    }
   ],
   "source": [
    "makeblastdb -in Oryza/Osativa_204_v7.0.protein.fasta -out Oryza/Osativa_pep -dbtype prot -parse_seqids"
   ]
  },
  {
   "cell_type": "markdown",
   "id": "16419b58-98d9-4d84-88ff-5496afba3271",
   "metadata": {},
   "source": [
    "## N.benthamiana"
   ]
  },
  {
   "cell_type": "code",
   "execution_count": 15,
   "id": "3db2f7ba-5922-4f98-8a37-8aaab7278b57",
   "metadata": {},
   "outputs": [
    {
     "name": "stdout",
     "output_type": "stream",
     "text": [
      "\n",
      "\n",
      "Building a new DB, current time: 09/29/2025 23:25:40\n",
      "New DB name:   /home/katagiri/jupytor_uv/FastaTools/Benthamiana/Nben_pep\n",
      "New DB title:  Benthamiana/Nbe_v1.1_pep.fa\n",
      "Sequence type: Protein\n",
      "Deleted existing Protein BLAST database named /home/katagiri/jupytor_uv/FastaTools/Benthamiana/Nben_pep\n",
      "Keep MBits: T\n",
      "Maximum file size: 3000000000B\n",
      "Adding sequences from FASTA; added 84570 sequences in 0.449059 seconds.\n",
      "\n",
      "\n"
     ]
    }
   ],
   "source": [
    "makeblastdb -in Benthamiana/Nbe_v1.1_pep.fa -out Benthamiana/Nben_pep -dbtype prot -parse_seqids"
   ]
  },
  {
   "cell_type": "markdown",
   "id": "21ba379c-b194-434e-af25-a70a18b876d5",
   "metadata": {},
   "source": [
    "## Glycine max"
   ]
  },
  {
   "cell_type": "code",
   "execution_count": 16,
   "id": "f7860326-7d6c-4ba3-8b23-0268087162f9",
   "metadata": {},
   "outputs": [
    {
     "name": "stdout",
     "output_type": "stream",
     "text": [
      "\n",
      "\n",
      "Building a new DB, current time: 09/29/2025 23:25:41\n",
      "New DB name:   /home/katagiri/jupytor_uv/FastaTools/GMax/Glymax_pep\n",
      "New DB title:  GMax/Gmax_880_Wm82.a6.v1.protein.fa\n",
      "Sequence type: Protein\n",
      "Deleted existing Protein BLAST database named /home/katagiri/jupytor_uv/FastaTools/GMax/Glymax_pep\n",
      "Keep MBits: T\n",
      "Maximum file size: 3000000000B\n",
      "Adding sequences from FASTA; added 80374 sequences in 0.524074 seconds.\n",
      "\n",
      "\n"
     ]
    }
   ],
   "source": [
    "makeblastdb -in GMax/Gmax_880_Wm82.a6.v1.protein.fa -out GMax/Glymax_pep -dbtype prot -parse_seqids"
   ]
  },
  {
   "cell_type": "markdown",
   "id": "5b024ab5-665d-4cdf-a9da-ca1ef9330d5c",
   "metadata": {},
   "source": [
    "## Wheat"
   ]
  },
  {
   "cell_type": "code",
   "execution_count": 17,
   "id": "3fc84771-70e4-4bbd-9767-d0aaf1056419",
   "metadata": {},
   "outputs": [
    {
     "name": "stdout",
     "output_type": "stream",
     "text": [
      "\n",
      "\n",
      "Building a new DB, current time: 09/29/2025 23:25:42\n",
      "New DB name:   /home/katagiri/jupytor_uv/FastaTools/Triticum/Ta_pep\n",
      "New DB title:  Triticum/Triticum_aestivum.IWGSC.pep.all.fa\n",
      "Sequence type: Protein\n",
      "Deleted existing Protein BLAST database named /home/katagiri/jupytor_uv/FastaTools/Triticum/Ta_pep\n",
      "Keep MBits: T\n",
      "Maximum file size: 3000000000B\n",
      "Adding sequences from FASTA; added 133346 sequences in 0.988577 seconds.\n",
      "\n",
      "\n"
     ]
    }
   ],
   "source": [
    "makeblastdb -in Triticum/Triticum_aestivum.IWGSC.pep.all.fa -out Triticum/Ta_pep -dbtype prot -parse_seqids "
   ]
  },
  {
   "cell_type": "markdown",
   "id": "2777e03d-4e86-4a62-ab58-605349a2d020",
   "metadata": {},
   "source": [
    "## Marchantia"
   ]
  },
  {
   "cell_type": "code",
   "execution_count": 18,
   "id": "2a3ac591-48d9-459d-8930-187bfcade54c",
   "metadata": {},
   "outputs": [
    {
     "name": "stdout",
     "output_type": "stream",
     "text": [
      "\n",
      "\n",
      "Building a new DB, current time: 09/29/2025 23:25:44\n",
      "New DB name:   /home/katagiri/jupytor_uv/FastaTools/Marchantia/Mp_pep\n",
      "New DB title:  Marchantia/MpTak_v6.1r2.protein.fasta\n",
      "Sequence type: Protein\n",
      "Deleted existing Protein BLAST database named /home/katagiri/jupytor_uv/FastaTools/Marchantia/Mp_pep\n",
      "Keep MBits: T\n",
      "Maximum file size: 3000000000B\n",
      "Adding sequences from FASTA; added 22674 sequences in 0.18369 seconds.\n",
      "\n",
      "\n"
     ]
    }
   ],
   "source": [
    "makeblastdb -in Marchantia/MpTak_v6.1r2.protein.fasta -out Marchantia/Mp_pep -dbtype prot -parse_seqids "
   ]
  },
  {
   "cell_type": "code",
   "execution_count": null,
   "id": "536def68-a90d-492a-b9c9-561fb1c1fe14",
   "metadata": {},
   "outputs": [],
   "source": []
  }
 ],
 "metadata": {
  "kernelspec": {
   "display_name": "Python 3 (ipykernel)",
   "language": "python",
   "name": "python3"
  },
  "language_info": {
   "codemirror_mode": {
    "name": "ipython",
    "version": 3
   },
   "file_extension": ".py",
   "mimetype": "text/x-python",
   "name": "python",
   "nbconvert_exporter": "python",
   "pygments_lexer": "ipython3",
   "version": "3.13.5"
  }
 },
 "nbformat": 4,
 "nbformat_minor": 5
}
